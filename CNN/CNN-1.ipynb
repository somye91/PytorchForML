{
 "cells": [
  {
   "cell_type": "markdown",
   "id": "478a0155-e414-4b79-89e8-befc7cdcaf1d",
   "metadata": {},
   "source": [
    "### 1. Import torch and print out the version. \n",
    "\n",
    "Also check if we have a GPU available to make the code device agnostic"
   ]
  },
  {
   "cell_type": "code",
   "execution_count": 5,
   "id": "e9ecf23c-6d60-4d62-a792-a0b3af1ee89c",
   "metadata": {},
   "outputs": [],
   "source": [
    "import torch\n",
    "from torchvision import datasets\n",
    "from torch import nn\n"
   ]
  },
  {
   "cell_type": "code",
   "execution_count": 6,
   "id": "0b58dd1c-a7cf-4c0c-aeb5-0372573cda04",
   "metadata": {},
   "outputs": [
    {
     "name": "stdout",
     "output_type": "stream",
     "text": [
      "2.3.0\n",
      "cpu\n"
     ]
    }
   ],
   "source": [
    "print(torch.__version__)\n",
    "device=torch.device(\"cuda\" if torch.cuda.is_available() else \"cpu\")\n",
    "print(device)\n"
   ]
  },
  {
   "cell_type": "markdown",
   "id": "f191ab27-15d6-42dd-bcac-d72e5f125dde",
   "metadata": {},
   "source": [
    "### 2. Load the dataset and visualize an image"
   ]
  },
  {
   "cell_type": "code",
   "execution_count": 7,
   "id": "9fa176f9-5303-464f-a139-15e60c4d16fb",
   "metadata": {},
   "outputs": [
    {
     "name": "stdout",
     "output_type": "stream",
     "text": [
      "{'X': 181.01384, 'Y': 698.6175, 'rabR': 43.00092}\n",
      "1000\n",
      "800\n",
      "800\n"
     ]
    }
   ],
   "source": [
    "## Load and print the first label\n",
    "import json\n",
    "import torchvision.transforms as transforms \n",
    "\n",
    "file=\"/Users/somye/Downloads/DataSetV1/RoundaboutInfo.json\"\n",
    "f = open(file)\n",
    "data = json.load(f)\n",
    "print(data[0])\n",
    "print(len(data))\n",
    "f.close\n",
    "X=data[0]['X']\n",
    "Y=data[0]['Y']\n",
    "\n",
    "from  torchvision.io import read_image\n",
    "image=\"/Users/somye/Downloads/DataSetV1/0000.png\"\n",
    "a=read_image(image)\n",
    "print(a.shape[1])\n",
    "print(a.shape[2])\n",
    "\n",
    "# Uncomment the below code to plot an image\n",
    "#import matplotlib.pyplot as plt\n",
    "#plt.imshow(a.permute(1,2,0))  ## Matplotlib expects the channels to be the last dimension, we will reaarange our image to HXWXC\n",
    "#plt.scatter(X,800-Y, s=50, c='red', marker='o')  ## 800-Y because our y-axis is inverted if you see\n"
   ]
  },
  {
   "cell_type": "markdown",
   "id": "04a00b8a-efd7-4c40-8e06-ff3a781d5cc4",
   "metadata": {},
   "source": [
    "### 3. Prepare a custom dataset\n",
    "We will resize the images from 800X800 To --> `newsize`. <br>We will also convert it to greyscale<br>\n",
    "We will also normalize the image labels by diving them by `newsize`\n",
    "<br> Because we are scaling down the images to newsize, we also have to scale down our x,y,rabR labels ( so multiply them by (`newsize/origsize`) )"
   ]
  },
  {
   "cell_type": "code",
   "execution_count": 8,
   "id": "3169de34-9b33-421c-88cf-aaf81de26693",
   "metadata": {},
   "outputs": [],
   "source": [
    "from torch.utils.data import DataLoader\n",
    "from torch.utils.data import Dataset\n",
    "from  torchvision.io import read_image\n",
    "from PIL import Image\n",
    "from torchvision import transforms\n",
    "import json\n",
    "from torchvision.transforms.functional import rgb_to_grayscale\n",
    "import glob\n",
    "\n",
    "class PrepareData(Dataset):\n",
    "    def __init__(self,imagePath,transform=None):\n",
    "        self.imagePath=imagePath\n",
    "        self.transform = transform\n",
    "        self.imgdict={}\n",
    "        self.labeldict={}\n",
    "        f = open(imagePath+\"/RoundaboutInfo.json\")\n",
    "        labeldata = json.load(f)\n",
    "\n",
    "\n",
    "        \n",
    "        for i,img in enumerate(sorted(glob.glob(self.imagePath+'/*.png'))):\n",
    "            self.imgdict[i]=Image.open(img)\n",
    "            labeldata[i]['X']=labeldata[i]['X']*newsize/origsize\n",
    "            labeldata[i]['Y']=newsize - labeldata[i]['Y']*newsize/origsize\n",
    "            labeldata[i]['rabR']=labeldata[i]['rabR']*newsize/origsize\n",
    "\n",
    "        \n",
    "            labeldata[i]['X']= labeldata[i]['X']/newsize\n",
    "            labeldata[i]['Y']= labeldata[i]['Y']/newsize\n",
    "            labeldata[i]['rabR']=labeldata[i]['rabR']/newsize\n",
    "            \n",
    "            self.labeldict[i]=labeldata[i]\n",
    "\n",
    "        f.close()\n",
    "\n",
    "    def load_image(self,idx):\n",
    "        return self.imgdict[idx]\n",
    "\n",
    "    def __len__(self):\n",
    "        return len(self.imgdict)\n",
    "\n",
    "    def __getitem__(self,idx):\n",
    "        if self.transform:\n",
    "            return rgb_to_grayscale(self.transform(self.load_image(idx))), self.labeldict[idx]\n",
    "        else:\n",
    "            return self.load_image(idx), self.labeldict[idx]\n",
    "\n",
    "imagePath=\"/Users/somye/Downloads/DataSetV1/\"\n",
    "origsize=800 ##   Fetch the width from original images\n",
    "newsize=128  ## Set both height and width to 128\n",
    "train_transforms = transforms.Compose([\n",
    "    transforms.Resize((newsize, newsize)),\n",
    "    transforms.ToTensor()\n",
    "])\n",
    "\n",
    "\n",
    "d=PrepareData(imagePath,train_transforms)\n",
    "batch_size=100\n",
    "train_size = int(0.90 * len(d))\n",
    "test_size = len(d) - train_size\n",
    "torch.manual_seed(42)\n",
    "train_dataset, test_dataset = torch.utils.data.random_split(d, [train_size, test_size])\n",
    "train_loader=DataLoader(train_dataset,batch_size,shuffle=True)\n",
    "test_loader=DataLoader(test_dataset,batch_size,shuffle=True)"
   ]
  },
  {
   "cell_type": "code",
   "execution_count": 9,
   "id": "f7408421-054b-4f15-af7f-76b26b4debe3",
   "metadata": {},
   "outputs": [
    {
     "name": "stdout",
     "output_type": "stream",
     "text": [
      "torch.Size([100, 1, 128, 128])\n",
      "torch.Size([100])\n",
      "torch.Size([100])\n",
      "torch.Size([100])\n",
      "tensor(0.3138, dtype=torch.float64) tensor(0.6523, dtype=torch.float64)\n"
     ]
    }
   ],
   "source": [
    "## Print some samples\n",
    "import matplotlib.pyplot as plt\n",
    "for i,j in train_loader:\n",
    "    print (i.shape)\n",
    "    print(j['X'].shape)\n",
    "    print(j['Y'].shape)\n",
    "    print(j['rabR'].shape)\n",
    "    #plt.imshow(i[0].permute(1, 2, 0))  ##Convert to H*W*C because matplotlib expects so\n",
    "    #print(j)  #This will display the image tensors, if you uncomment this you will see that the data is normalized already by pytorch;s ToTensor() method\n",
    "    #plt.scatter(j['X'][0]*128, j['Y'][0]*128, s=50, c='red', marker='o')\n",
    "    print(j['X'][0],j['Y'][0])\n",
    "    break"
   ]
  },
  {
   "cell_type": "markdown",
   "id": "af68987b-d2dd-41ba-a3a2-366ec9e2d828",
   "metadata": {},
   "source": [
    "### Define a NeuralNetwork\n",
    "We will use CNN in combination with FullyConnected dense layers"
   ]
  },
  {
   "cell_type": "code",
   "execution_count": 10,
   "id": "e51d4b00-9f6d-4d5a-b618-f90a57d738ea",
   "metadata": {},
   "outputs": [],
   "source": [
    "class CNN(nn.Module):\n",
    "    def __init__(self,in_channels=1, hidden_units=32):\n",
    "        super().__init__()\n",
    "        self.in_channels=in_channels\n",
    "        self.hidden_units=hidden_units\n",
    "        self.cnnlayers=nn.Sequential(\n",
    "            nn.Conv2d(in_channels=self.in_channels, out_channels=20, kernel_size=5, stride=1),\n",
    "            nn.LeakyReLU(),\n",
    "            nn.LocalResponseNorm(2),\n",
    "            nn.MaxPool2d(kernel_size=2),\n",
    "            \n",
    "            nn.Conv2d(in_channels=20, out_channels=40, kernel_size=7, stride=1),\n",
    "            nn.LeakyReLU(),\n",
    "            nn.LocalResponseNorm(2),\n",
    "            nn.MaxPool2d(kernel_size=2),\n",
    "            #nn.Dropout(),\n",
    "\n",
    "            nn.Conv2d(in_channels=40, out_channels=80, padding=1,kernel_size=11, stride=1),\n",
    "            nn.LeakyReLU(),\n",
    "            nn.LocalResponseNorm(2),\n",
    "            nn.MaxPool2d(kernel_size=2)\n",
    "            \n",
    "            \n",
    "                                    )\n",
    "        self.classifer=nn.Sequential(\n",
    "            nn.Flatten(),\n",
    "            nn.Linear(in_features=8000, out_features=64),\n",
    "            nn.LeakyReLU(),\n",
    "            nn.Linear(in_features=64, out_features=64),\n",
    "            nn.LeakyReLU(),\n",
    "            nn.Linear(in_features=64, out_features=16),\n",
    "            nn.Sigmoid(),\n",
    "            nn.Linear(in_features=16, out_features=3)\n",
    "\n",
    "                                     )\n",
    "    def forward(self, x):\n",
    "            return self.classifer(self.cnnlayers(x))\n",
    "\n",
    "            "
   ]
  },
  {
   "cell_type": "markdown",
   "id": "64425e19-a184-4d44-8ace-34502019b765",
   "metadata": {},
   "source": [
    "### 4.1 Create our model object and pass random tensors to it that matches our image tensors.<br>\n",
    "Check output size produced by our model. It outputs 3 labels per image (X,Y,rabR)"
   ]
  },
  {
   "cell_type": "code",
   "execution_count": 13,
   "id": "55cc4774-cd31-4f6e-8f51-05d0d0517590",
   "metadata": {},
   "outputs": [
    {
     "name": "stdout",
     "output_type": "stream",
     "text": [
      "torch.Size([100, 3])\n"
     ]
    },
    {
     "data": {
      "text/plain": [
       "CNN(\n",
       "  (cnnlayers): Sequential(\n",
       "    (0): Conv2d(1, 20, kernel_size=(5, 5), stride=(1, 1))\n",
       "    (1): LeakyReLU(negative_slope=0.01)\n",
       "    (2): LocalResponseNorm(2, alpha=0.0001, beta=0.75, k=1.0)\n",
       "    (3): MaxPool2d(kernel_size=2, stride=2, padding=0, dilation=1, ceil_mode=False)\n",
       "    (4): Conv2d(20, 40, kernel_size=(7, 7), stride=(1, 1))\n",
       "    (5): LeakyReLU(negative_slope=0.01)\n",
       "    (6): LocalResponseNorm(2, alpha=0.0001, beta=0.75, k=1.0)\n",
       "    (7): MaxPool2d(kernel_size=2, stride=2, padding=0, dilation=1, ceil_mode=False)\n",
       "    (8): Conv2d(40, 80, kernel_size=(11, 11), stride=(1, 1), padding=(1, 1))\n",
       "    (9): LeakyReLU(negative_slope=0.01)\n",
       "    (10): LocalResponseNorm(2, alpha=0.0001, beta=0.75, k=1.0)\n",
       "    (11): MaxPool2d(kernel_size=2, stride=2, padding=0, dilation=1, ceil_mode=False)\n",
       "  )\n",
       "  (classifer): Sequential(\n",
       "    (0): Flatten(start_dim=1, end_dim=-1)\n",
       "    (1): Linear(in_features=8000, out_features=64, bias=True)\n",
       "    (2): LeakyReLU(negative_slope=0.01)\n",
       "    (3): Linear(in_features=64, out_features=64, bias=True)\n",
       "    (4): LeakyReLU(negative_slope=0.01)\n",
       "    (5): Linear(in_features=64, out_features=16, bias=True)\n",
       "    (6): Sigmoid()\n",
       "    (7): Linear(in_features=16, out_features=3, bias=True)\n",
       "  )\n",
       ")"
      ]
     },
     "execution_count": 13,
     "metadata": {},
     "output_type": "execute_result"
    }
   ],
   "source": [
    "## Create a random image matching our data and check that the models returns a tuple of 3 values (X,Y,rabR)\n",
    "modelV1=CNN()\n",
    "randomimage=torch.rand(batch_size,1,128,128)\n",
    "print(modelV1(randomimage).shape)\n",
    "\n",
    "torch.manual_seed(42)\n",
    "def weights_init(m):\n",
    "    if isinstance(m, nn.Conv2d):\n",
    "        torch.nn.init.xavier_uniform_(m.weight)\n",
    "        torch.nn.init.zeros_(m.bias)\n",
    "\n",
    "modelV1.apply(weights_init)\n"
   ]
  },
  {
   "cell_type": "markdown",
   "id": "40ff375d-1ab4-47c9-b30e-26f0e6b661e8",
   "metadata": {},
   "source": [
    "### 4.2 Print the summary of our NN"
   ]
  },
  {
   "cell_type": "code",
   "execution_count": 1197,
   "id": "5def6dd1-3c27-43b5-9f74-85bba31af73d",
   "metadata": {},
   "outputs": [
    {
     "data": {
      "text/plain": [
       "==========================================================================================\n",
       "Layer (type:depth-idx)                   Output Shape              Param #\n",
       "==========================================================================================\n",
       "CNN                                      [100, 3]                  --\n",
       "├─Sequential: 1-1                        [100, 80, 10, 10]         --\n",
       "│    └─Conv2d: 2-1                       [100, 20, 124, 124]       520\n",
       "│    └─LeakyReLU: 2-2                    [100, 20, 124, 124]       --\n",
       "│    └─LocalResponseNorm: 2-3            [100, 20, 124, 124]       --\n",
       "│    └─MaxPool2d: 2-4                    [100, 20, 62, 62]         --\n",
       "│    └─Conv2d: 2-5                       [100, 40, 56, 56]         39,240\n",
       "│    └─LeakyReLU: 2-6                    [100, 40, 56, 56]         --\n",
       "│    └─LocalResponseNorm: 2-7            [100, 40, 56, 56]         --\n",
       "│    └─MaxPool2d: 2-8                    [100, 40, 28, 28]         --\n",
       "│    └─Conv2d: 2-9                       [100, 80, 20, 20]         387,280\n",
       "│    └─LeakyReLU: 2-10                   [100, 80, 20, 20]         --\n",
       "│    └─LocalResponseNorm: 2-11           [100, 80, 20, 20]         --\n",
       "│    └─MaxPool2d: 2-12                   [100, 80, 10, 10]         --\n",
       "├─Sequential: 1-2                        [100, 3]                  --\n",
       "│    └─Flatten: 2-13                     [100, 8000]               --\n",
       "│    └─Linear: 2-14                      [100, 64]                 512,064\n",
       "│    └─LeakyReLU: 2-15                   [100, 64]                 --\n",
       "│    └─Linear: 2-16                      [100, 64]                 4,160\n",
       "│    └─LeakyReLU: 2-17                   [100, 64]                 --\n",
       "│    └─Linear: 2-18                      [100, 16]                 1,040\n",
       "│    └─Sigmoid: 2-19                     [100, 16]                 --\n",
       "│    └─Linear: 2-20                      [100, 3]                  51\n",
       "==========================================================================================\n",
       "Total params: 944,355\n",
       "Trainable params: 944,355\n",
       "Non-trainable params: 0\n",
       "Total mult-adds (Units.GIGABYTES): 28.65\n",
       "==========================================================================================\n",
       "Input size (MB): 6.55\n",
       "Forward/backward pass size (MB): 372.09\n",
       "Params size (MB): 3.78\n",
       "Estimated Total Size (MB): 382.42\n",
       "=========================================================================================="
      ]
     },
     "execution_count": 1197,
     "metadata": {},
     "output_type": "execute_result"
    }
   ],
   "source": [
    "# Install torchinfo if it's not available, import it if it is\n",
    "try: \n",
    "    import torchinfo\n",
    "except:\n",
    "    !pip install torchinfo\n",
    "    import torchinfo\n",
    "\n",
    "## You can view a details of the shapes here\n",
    "from torchinfo import summary\n",
    "summary(modelV1, input_size=[batch_size, 1, 128, 128]) # do a test pass through of an example input siz"
   ]
  },
  {
   "cell_type": "markdown",
   "id": "6628d45b-6ce4-4423-acc8-95223c7130dc",
   "metadata": {},
   "source": [
    "### 5.1 Define a train loop function that returns total avg loss per epoch"
   ]
  },
  {
   "cell_type": "code",
   "execution_count": 1198,
   "id": "fbeccac3-636a-4851-9289-196f3b4d1c75",
   "metadata": {},
   "outputs": [],
   "source": [
    "def train_step(model, dataloader, loss_fn, optimizer):\n",
    "    tloss=0\n",
    "    model.train()\n",
    "    for batch, (data,labels) in enumerate(dataloader):\n",
    "        pred=model(data)\n",
    "\n",
    "        loss=loss_fn(pred.type(torch.float64), torch.stack((labels['X'],labels['Y'],labels['rabR']),dim=0).permute(1,0))\n",
    "        tloss+=loss\n",
    "        \n",
    "        optimizer.zero_grad()\n",
    "        loss.backward()\n",
    "        optimizer.step()\n",
    "    tloss/=len(dataloader)\n",
    "    return tloss.item()\n",
    "        "
   ]
  },
  {
   "cell_type": "markdown",
   "id": "2594c1b5-f2a6-44a9-8391-9da3c8786637",
   "metadata": {},
   "source": [
    "### 5.2 Define loss functions, optimizers etc (hyperparameters)\n",
    "Store the losses per epoch into a dictionary that we can use later to graph our losses over epochs"
   ]
  },
  {
   "cell_type": "code",
   "execution_count": 1199,
   "id": "334467fa-4e62-413c-8547-7eae0fdd2b0a",
   "metadata": {
    "editable": true,
    "slideshow": {
     "slide_type": ""
    },
    "tags": []
   },
   "outputs": [
    {
     "name": "stdout",
     "output_type": "stream",
     "text": [
      "Epoch:0 | AvgLoss: 0.16664201687902921 \n",
      "Epoch:10 | AvgLoss: 0.02076170040357617 \n",
      "Epoch:20 | AvgLoss: 0.020200565996935205 \n",
      "Epoch:30 | AvgLoss: 0.01357837289030389 \n",
      "Epoch:40 | AvgLoss: 0.010257941285846249 \n",
      "Epoch:50 | AvgLoss: 0.009391138685196433 \n",
      "Epoch:60 | AvgLoss: 0.00897871288263105 \n",
      "Epoch:70 | AvgLoss: 0.008809790931981401 \n",
      "Epoch:80 | AvgLoss: 0.008537269348036077 \n",
      "Epoch:90 | AvgLoss: 0.008041741673736148 \n",
      "Epoch:100 | AvgLoss: 0.007463005863069507 \n",
      "Epoch:110 | AvgLoss: 0.0070456575822990825 \n",
      "Epoch:120 | AvgLoss: 0.006777687964814184 \n",
      "Epoch:130 | AvgLoss: 0.006526186289006021 \n",
      "Epoch:140 | AvgLoss: 0.006187437461219942 \n",
      "Epoch:150 | AvgLoss: 0.005905022866357033 \n",
      "Epoch:160 | AvgLoss: 0.005654793322760414 \n",
      "Epoch:170 | AvgLoss: 0.00539255208643671 \n",
      "Epoch:180 | AvgLoss: 0.005038234331806467 \n",
      "Epoch:190 | AvgLoss: 0.004803444282765769 \n"
     ]
    }
   ],
   "source": [
    "loss_fn = nn.MSELoss()\n",
    "optimizer = torch.optim.Adam(params=modelV1.parameters(), lr=0.0001)\n",
    "epochs=200\n",
    "\n",
    "avgloss=[]\n",
    "epochcnt=[]\n",
    "\n",
    "\n",
    "for epoch in range(epochs):\n",
    "    loss=train_step(modelV1, train_loader,loss_fn,optimizer)\n",
    "    if epoch%10==0:\n",
    "        print(f\"Epoch:{epoch} | AvgLoss: {loss} \")\n",
    "        avgloss.append(loss)\n",
    "        epochcnt.append(epoch)\n",
    "\n"
   ]
  },
  {
   "cell_type": "markdown",
   "id": "f6dc3cc4-c4d6-4be3-9645-f1ff7f1ee140",
   "metadata": {},
   "source": [
    "### 5.3 Save the model"
   ]
  },
  {
   "cell_type": "code",
   "execution_count": 1208,
   "id": "cafe3050-9a6d-43ae-aeb3-3aac4fd03f73",
   "metadata": {},
   "outputs": [],
   "source": [
    "path=\"/Users/somye/Downloads/DataSetV1/cnn1.pth\"\n",
    "torch.save(modelV1.state_dict(), path)"
   ]
  },
  {
   "cell_type": "code",
   "execution_count": 11,
   "id": "11d1ac53-726b-4903-a2d3-10dc76624dbc",
   "metadata": {},
   "outputs": [],
   "source": [
    "# modelV2 = CNN()\n",
    "# modelV2.load_state_dict(torch.load(\"/Users/somye/Downloads/DataSetV1/cnn.pth\"))\n"
   ]
  },
  {
   "cell_type": "markdown",
   "id": "c0d978e1-6344-4ed7-9ed3-efc2da549914",
   "metadata": {},
   "source": [
    "### 6.1 Pass the test_loader images to our model and visualize the output"
   ]
  },
  {
   "cell_type": "code",
   "execution_count": 14,
   "id": "ec8a4414-3277-4602-b6da-54498f631a7a",
   "metadata": {},
   "outputs": [
    {
     "name": "stdout",
     "output_type": "stream",
     "text": [
      "torch.Size([100, 1, 128, 128])\n",
      "torch.Size([1, 1, 128, 128])\n",
      "Actual data: 0.85881625 , 0.57176322875 , 0.051669540375\n",
      "Predicted data: -0.004876434803009033 , 0.3948831260204315 , 0.42042890191078186\n"
     ]
    }
   ],
   "source": [
    "import random\n",
    "def predict_output(dataloader):\n",
    "    modelV1.eval()\n",
    "    with torch.inference_mode():\n",
    "        rand=random.randint(0,32)\n",
    "\n",
    "        for batch, (data,labels) in enumerate(dataloader):\n",
    "            print(data.shape)\n",
    "            print(data[rand].unsqueeze(dim=0).shape)\n",
    "            out=modelV1(data[rand].unsqueeze(dim=0))\n",
    "            print(f\"Actual data: {labels['X'][rand]} , {labels['Y'][rand]} , {labels['rabR'][rand]}\")\n",
    "            print(f\"Predicted data: {out[0][0].item()} , {out[0][1].item()} , {out[0][2].item()}\")\n",
    "            #plt.imshow(data[rand].permute(1,2,0))\n",
    "            #plt.scatter(out[0][0].item()*newsize, out[0][1].item()*newsize, s=75, c='red', marker='o')  ## Predicted labels scale them back\n",
    "            #plt.scatter(labels['X'][rand]*newsize, labels['Y'][rand]*newsize, s=50, c='yellow', marker='X')  ##True labels scale them back\n",
    "            break\n",
    "\n",
    "predict_output(test_loader)"
   ]
  },
  {
   "cell_type": "markdown",
   "id": "e7f2a137-4f62-4bf6-b0e7-d2a1ec6424c3",
   "metadata": {},
   "source": [
    "### 6.2 Display the loss curve over epochs"
   ]
  },
  {
   "cell_type": "code",
   "execution_count": 1204,
   "id": "04284c0e-5c6e-443d-b863-57499e215eec",
   "metadata": {},
   "outputs": [
    {
     "data": {
      "text/plain": [
       "[<matplotlib.lines.Line2D at 0x154402210>]"
      ]
     },
     "execution_count": 1204,
     "metadata": {},
     "output_type": "execute_result"
    },
    {
     "data": {
      "image/png": "[encoded data removed]",
      "text/plain": [
       "<Figure size 640x480 with 1 Axes>"
      ]
     },
     "metadata": {},
     "output_type": "display_data"
    }
   ],
   "source": [
    "plt.xlabel(\"Epoch\")\n",
    "plt.ylabel(\"AvgLoss\")\n",
    "plt.title(\"Loss per epoch\")\n",
    "plt.plot(epochcnt, avgloss)"
   ]
  }
 ],
 "metadata": {
  "kernelspec": {
   "display_name": "Python 3 (ipykernel)",
   "language": "python",
   "name": "python3"
  },
  "language_info": {
   "codemirror_mode": {
    "name": "ipython",
    "version": 3
   },
   "file_extension": ".py",
   "mimetype": "text/x-python",
   "name": "python",
   "nbconvert_exporter": "python",
   "pygments_lexer": "ipython3",
   "version": "3.12.3"
  }
 },
 "nbformat": 4,
 "nbformat_minor": 5
}
